{
 "cells": [
  {
   "cell_type": "code",
   "execution_count": 1,
   "metadata": {},
   "outputs": [
    {
     "data": {
      "text/plain": [
       "True"
      ]
     },
     "execution_count": 1,
     "metadata": {},
     "output_type": "execute_result"
    }
   ],
   "source": [
    "import os\n",
    "from langchain_community.document_loaders import WebBaseLoader\n",
    "from langchain_community.vectorstores import Chroma\n",
    "from langchain_core.output_parsers import StrOutputParser\n",
    "from langchain_core.runnables import RunnablePassthrough\n",
    "from langchain_openai import AzureChatOpenAI, AzureOpenAIEmbeddings\n",
    "from langchain_text_splitters import RecursiveCharacterTextSplitter\n",
    "\n",
    "from dotenv import load_dotenv\n",
    "load_dotenv()"
   ]
  },
  {
   "cell_type": "code",
   "execution_count": 2,
   "metadata": {},
   "outputs": [],
   "source": [
    "azure_api_key=os.getenv(\"AZURE_OPENAI_API_KEY\")\n",
    "api_endpoint=os.getenv(\"AZURE_OPENAI_ENDPOINT\")\n",
    "azure_api_version=os.getenv(\"OPENAI_API_VERSION\")\n",
    "open_ai_api_key=os.getenv(\"OPENAI_API_KEY\")"
   ]
  },
  {
   "cell_type": "code",
   "execution_count": 5,
   "metadata": {},
   "outputs": [],
   "source": [
    "embedding_model = AzureOpenAIEmbeddings(azure_deployment=\"text-embedding\")\n",
    "llm = AzureChatOpenAI(azure_deployment=\"gpt-35-turbo-1106\", temperature=0)"
   ]
  },
  {
   "cell_type": "markdown",
   "metadata": {},
   "source": [
    "# Load document"
   ]
  },
  {
   "cell_type": "code",
   "execution_count": 4,
   "metadata": {},
   "outputs": [],
   "source": [
    "from langchain_community.document_loaders import PyPDFLoader\n",
    "# for pdf to LaTeX\n",
    "# loader = MathpixPDFLoader(\"data/luri_higher_topos.pdf\")\n",
    "# data = loader.load()\n",
    "\n",
    "loader = PyPDFLoader(\"data/luri_higher_topos.pdf\")\n",
    "data = loader.load()\n"
   ]
  },
  {
   "cell_type": "markdown",
   "metadata": {},
   "source": [
    "# Split text"
   ]
  },
  {
   "cell_type": "code",
   "execution_count": 5,
   "metadata": {},
   "outputs": [],
   "source": [
    "from langchain_text_splitters import RecursiveCharacterTextSplitter\n",
    "\n",
    "text_splitter = RecursiveCharacterTextSplitter(\n",
    "    # Set a really small chunk size, just to show.\n",
    "    chunk_size=1000,\n",
    "    chunk_overlap=200,\n",
    "    length_function=len,\n",
    "    separators=[\n",
    "        \"\\n\\n\",\n",
    "        \"\\n\",\n",
    "        \" \",\n",
    "        \".\",\n",
    "        \",\",\n",
    "        \"\\u200B\",  # Zero-width space\n",
    "        \"\\uff0c\",  # Fullwidth comma\n",
    "        \"\\u3001\",  # Ideographic comma\n",
    "        \"\\uff0e\",  # Fullwidth full stop\n",
    "        \"\\u3002\",  # Ideographic full stop\n",
    "        \"\",\n",
    "    ],\n",
    ")\n",
    "\n",
    "splits = text_splitter.split_documents(data)"
   ]
  },
  {
   "cell_type": "code",
   "execution_count": 10,
   "metadata": {},
   "outputs": [],
   "source": [
    "# Split semantically based on embeddings\n",
    "# from langchain_experimental.text_splitter import SemanticChunker\n",
    "\n",
    "# semantic_splitter = SemanticChunker(AzureOpenAIEmbeddings(azure_deployment=\"text-embedding\"))\n",
    "# semantic_splits = semantic_splitter.create_documents(\"insert page content only\")"
   ]
  },
  {
   "cell_type": "markdown",
   "metadata": {},
   "source": [
    "## Create Vectorstore"
   ]
  },
  {
   "cell_type": "code",
   "execution_count": 6,
   "metadata": {},
   "outputs": [],
   "source": [
    "# vectorstore = Chroma.from_documents(documents=splits, embedding=embedding_model, persist_directory=\"db/recursive_splits\")\n",
    "# load vectorstore\n",
    "vectorstore = Chroma(persist_directory=\"db/recursive_splits\", embedding_function=embedding_model)"
   ]
  },
  {
   "cell_type": "markdown",
   "metadata": {},
   "source": [
    "# Retrieval"
   ]
  },
  {
   "cell_type": "code",
   "execution_count": 8,
   "metadata": {},
   "outputs": [],
   "source": [
    "retriever = vectorstore.as_retriever(search_type=\"mmr\", search_kwargs={\"k\":20})\n",
    "\n",
    "results = retriever.get_relevant_documents(\"Can you give some basic examples of a Kan complex?\")"
   ]
  },
  {
   "cell_type": "code",
   "execution_count": 9,
   "metadata": {},
   "outputs": [
    {
     "data": {
      "text/plain": [
       "[Document(page_content='In the setting of simplicial sets, this problem admits an att ractive formulation in terms of Quillen’s theory\\nofminimal Kan complexes. Every Kan complex Xis homotopy equivalent to a minimal Kan complex, and\\na mapX→Yof minimal Kan complexes is a homotopy equivalence if and onl y if it is an isomorphism.\\nConsequently, the classiﬁcation of Kan complexes up to homo topy equivalence is equivalent to the classi-\\nﬁcation of minimal Kan complexes up to isomorphism. Of course, in practical ter ms, this is not of much\\nuse for solving the classiﬁcation problem. Nevertheless, t he theory of minimal Kan complexes (and, more\\ngenerally, minimal Kan ﬁbrations) is a useful tool in the hom otopy theory of simplicial sets. The purpose\\nof this section is to describe a generalization of the theory of minimal models, in which Kan ﬁbrations are\\nreplaced by inner ﬁbrations. An exposition of this theory ca n also be found in [44].', metadata={'page': 90, 'source': 'data/luri_higher_topos.pdf'}),\n",
       " Document(page_content='a Kan complex, then Proposition 3.1.5.7 asserts that the con travariant equivalences are precisely the weak\\nhomotopy equivalences.\\n191', metadata={'page': 191, 'source': 'data/luri_higher_topos.pdf'}),\n",
       " Document(page_content='4.3.3 Kan Extensions along General Functors . . . . . . . . . . . . . . . . . . . . . . . . . . 234\\n4.4 Examples of Colimits . . . . . . . . . . . . . . . . . . . . . . . . . . . . . . . . . . . . . . . . . 240\\n4.4.1 Coproducts . . . . . . . . . . . . . . . . . . . . . . . . . . . . . . . . . . . . . . . . . . 240\\n4.4.2 Pushouts . . . . . . . . . . . . . . . . . . . . . . . . . . . . . . . . . . . . . . . . . . . 241\\n4.4.3 Coequalizers . . . . . . . . . . . . . . . . . . . . . . . . . . . . . . . . . . . . . . . . . 245\\n4.4.4 Tensoring with Spaces . . . . . . . . . . . . . . . . . . . . . . . . . . . . . . . . . . . . 245\\n4.4.5 Retracts and Idempotents . . . . . . . . . . . . . . . . . . . . . . . . . . . . . . . . . . 248\\n8', metadata={'page': 8, 'source': 'data/luri_higher_topos.pdf'}),\n",
       " Document(page_content='Deﬁnition 1.2.16.1. LetKan denote the full subcategory of Set∆spanned by the collection of Kan com-\\nplexes. We will regard Kan as a simplicial category. Let S= N(Kan) denote the (simplicial) nerve of Kan.\\nWe will refer to Sas the∞-category of spaces .\\nRemark 1.2.16.2. For every pair of objects X,Y∈Kan, the simplicial set MapKan(X,Y) =YXis a Kan\\ncomplex. It follows that Sis an∞-category (Proposition 1.1.5.10).\\nRemark 1.2.16.3. There are many other ways to obtain a suitable “ ∞-category of spaces”. For example,\\nwe could instead deﬁne Sto be the (topological) nerve of the category of CW-complexe s and continuous\\nmaps. All that really matters is that we have a ∞-category which is equivalent to S= N(Kan). We have\\nselected Deﬁnition 1.2.16.1 for deﬁniteness and to simplif y our discussion of the Yoneda embedding in §5.1.3.\\nRemark 1.2.16.4. We will occasionally need to distinguish between “large” sp aces and “small” spaces. In', metadata={'page': 51, 'source': 'data/luri_higher_topos.pdf'}),\n",
       " Document(page_content='κ-small, 621\\nf-colimit, 215\\nk-truncated\\nmap between Kan complexes, 400\\nmorphism in an∞-category, 400\\nobject of an∞-category, 399\\nn-categoriesand functor categories, 96\\nand overcategories, 97\\nn-category, 94, 99\\nunderlying an∞-category, 97\\nn-gerbe, 575\\nn-topos, 3, 506\\n´ etale morphism, 489\\nabelian category\\nGrothendieck, 606\\nabsolute neighborhood retract, 615\\naccessible\\n∞-category, 345\\n∞-category of sections, 371\\nadjoint functors, 367\\ncategory, 5\\ncoproducts, 366\\nfunctor, 346\\nfunctor categories, 354\\nhomotopy ﬁber products, 364\\nlocalization, 373\\novercategories, 365\\nproducts, 366\\nsubcategory, 368, 646\\nundercategories, 361\\nadjoint functor\\nand (co)limits, 283\\nand composition, 277\\nand unit transformations, 277\\nbetween Ind-categories, 334\\nbetween∞-categories, 275\\nbetween ordinary categories, 271\\nexistence of, 279\\nQuillen, 286\\nadjoint functor theorem, 378\\nadjunction, 275\\nQuillen, 645\\nalgebraic morphism, 503\\nanodyne, 52\\ninner, 52\\nleft, 52, 60\\nmarked, 127\\nright, 52\\nbarycentric subdivision, 211', metadata={'page': 723, 'source': 'data/luri_higher_topos.pdf'}),\n",
       " Document(page_content='4.3 Kan Extensions\\nLetCandIbe ordinary categories. There is an obvious “diagonal” func torδ:C→CI, which carries an\\nobjectC∈Cto the constant diagram I→Ctaking the value C. IfCadmits small colimits, then the functor\\nδhas a left adjoint CI→C. This left adjoint admits an explicit description: it carri es an arbitrary diagram\\nf:I→Cto the colimit lim−→(f). Consequently, we can think of the theory of colimits as the study of left\\nadjoints to diagonal functors.\\nMore generally, if one is given a functor i:I→I′between diagram categories, then composition with i\\ninduces a functor i∗:CI′→CI. Assuming that Chas a suﬃcient supply of colimits, one can construct a left\\nadjoint toi∗. We then refer to this left adjoint as left Kan extension along i.\\nIn this section, we will study the ∞-categorical analogue of the theory of left Kan extensions. In the\\nextreme case where I′is the one-object category ∗, this theory simply reduces to the theory of colimits', metadata={'page': 215, 'source': 'data/luri_higher_topos.pdf'}),\n",
       " Document(page_content='weak Kan complexes orquasicategories in the literature). Our intention is that §1 can be used as a short\\n“user’s guide” to ∞-categories: it contains many of the basic deﬁnitions, and e xplains how many ideas from\\nclassical category theory can be extended to the ∞-categorical context. To simplify the exposition, we have\\ndeferred many proofs until later chapters, which contain a m ore thorough account of the theory. The hope\\nis that§1 will be useful to readers who want to get the ﬂavor of the subj ect, without becoming overwhelmed\\nby technical details.\\nIn§2 we will shift our focus slightly: rather than study individ ual examples of∞-categories, we consider\\nfamilies of∞-categories{CD}D∈Dparametrized by the objects of another ∞-category D. We might expect\\nsuch a family to be given by a map of ∞-categories p:C→D: given such a map, we can then deﬁne each\\nCDto be the ﬁber product C×D{D}. This deﬁnition behaves poorly in general (for example, the ﬁbers CD', metadata={'page': 3, 'source': 'data/luri_higher_topos.pdf'}),\n",
       " Document(page_content='any diagram of solid arrows\\nΛn\\ni→→↙↖\\n↓↓K\\n∆n↗↗↙↙↙↙\\nthere exists a dotted arrow as indicated rendering the diagr am commutative. Here Λn\\ni⊆∆ndenotes the ith\\nhorn, obtained from the simplex ∆nby deleting the interior and the face opposite the ith vertex.\\nThe singular complex of any topological space Xis a Kan complex: this follows from the fact that the\\nhorn|Λn\\ni|is a retract of the simplex |∆n|in the category of topological spaces. Conversely, any Kan c omplex\\nK“behaves like” a space: for example, there are simple combin atorial recipes for extracting homotopy groups\\nfromK(which turn out be isomorphic to the homotopy groups of the to pological space|K|). According to\\na theorem of Quillen (see [32] for a proof), the singular comp lex and geometric realization provide mutually\\ninverse equivalences between the homotopy category of CW co mplexes and the homotopy category of Kan\\ncomplexes.\\nThe formalism of simplicial sets is also closely related to c ategory theory. To any category C, we can', metadata={'page': 18, 'source': 'data/luri_higher_topos.pdf'}),\n",
       " Document(page_content='Z, the associated diagram of Kan complexes\\n[Z,X/π∗U] →→\\n↓↓[Z,Y/U]\\n↓↓\\n[Z,X] →→[Z,Y]\\nis homotopy Cartesian. Lemma 7.3.2.11 implies that the vert ical maps are inclusions of full simplicial subsets.\\nIt therefore suﬃces to show that if φ∗:Z→Yis a geometric morphism such that π∗◦φ∗factors through\\nY/U, thenφ∗factors through X/π∗U. This follows immediately from the characterization given in Lemma\\n7.3.2.11.\\n600', metadata={'page': 600, 'source': 'data/luri_higher_topos.pdf'}),\n",
       " Document(page_content='can be obtained from the theory of left Kan extensions by pass ing to opposite∞-categories.\\n4.3.3 Kan Extensions along General Functors\\nOur goal in this section is to generalize the theory of Kan ext ensions to the case where the change of diagram\\ncategory is not necessarily given by a fully faithful inclus ionC0⊆C. As in§4.3.2, we will discuss only the\\ntheory of leftKan extensions; a dual theory of right Kan extensions can be o btained by passing to opposite\\n∞-categories.\\nThe ideas introduced in this section are relatively element ary extensions of the ideas of §4.3.2. However,\\nwe will encounter a new complication. Let δ:C→C′be a change of diagram ∞-category,f:C→Da\\nfunctor, and δ!(f) :C′→Dits left Kan extension along δ(to be deﬁned below). Then one does not generally\\nexpect that δ∗δ!(f) to be equivalent to the original functor f. Instead, one has only a unit transformation\\nf→δ∗δ!(f). To set up the theory, this unit transformation must be take n as part of the data. Consequently,', metadata={'page': 234, 'source': 'data/luri_higher_topos.pdf'}),\n",
       " Document(page_content='(3)There exists a κ-small Kan complex X′and a homotopy equivalence X′→X.\\n(4)There exists a κ-small simplicial set Kand a weak homotopy equivalence K→X.\\n(5)The∞-category Cisκ-compact, when regarded as an object of S.\\n(6)The Kan complex Xis essentially small (when regarded as an ∞-category ).\\nProof. The equivalences (1) ⇔(2)⇔(3)⇔(6) follow from Proposition 5.4.1.2. The implication (3) ⇒(4)\\nis obvious. We next prove that (4) ⇒(5). Letp:K→Sbe the constant diagram taking the value ∗, let\\np:K⊲→Sbe a colimit of p, and letX′∈Sbe the image under pof the cone point of K⊲. It follows\\nfrom Proposition 5.1.6.8 that ∗is aκ-compact object of S. Corollary 5.3.4.15 implies that X′is aκ-compact\\nobject of S. Let ˜K→K⊲denote the left ﬁbration associated to p, and letX′′⊆˜Kdenote the ﬁber lying over\\nthe cone point of K⊲. The inclusion of the cone point in K⊲is right anodyne. It follows from Proposition', metadata={'page': 344, 'source': 'data/luri_higher_topos.pdf'}),\n",
       " Document(page_content='Example 2.3.4.17. A Kan complex Xis (−1)-truncated if it is either empty or contractible. It is 0-\\ntruncated if the natural map X→π0Xis a homotopy equivalence (equivalently, Xis 0-truncated if it is\\nhomotopy equivalent to a discrete space).\\nProposition 2.3.4.18. LetCbe an∞-category and n≥−1. The following conditions are equivalent:\\n(1)There exists a minimal model C′⊆Csuch that C′is ann-category.\\n(2)There exists a categorical equivalence D→C, where Dis ann-category.\\n(3)For every pair of objects X,Y∈C, the mapping space MapC(X,Y)∈His(n−1)-truncated.\\nProof. It is clear that (1) implies (2). Suppose next that (2) is sati sﬁed; we will prove (3). Without loss of\\ngenerality, we may replace CbyDand thereby assume that Cis ann-category. If n=−1, the desired result\\nfollows immediately from Example 2.3.4.2. Choose m≥nand an element η∈πm(MapC(X,Y),f). We can\\nrepresentηby a commutative diagram of simplicial sets\\n∂∆m↙↖\\n↓↓→→{f}\\n↓↓\\n∆ms→→HomR\\nC(X,Y).', metadata={'page': 99, 'source': 'data/luri_higher_topos.pdf'}),\n",
       " Document(page_content='Consequently, we may identify MapX(X,˜Y) with the Kan complex\\nZ= Fun(∆1,X)idX/×Fun(∆1,X){g}.\\nSimilarly, the trivial ﬁbration Fun(∆1,X)α/→Fun(∆1,X)f/allows us to identify MapGerb n(f,g) with the\\nKan complex\\nZ′= Fun(∆1,X)α/×Fun(∆1,X){g},\\nand MapGerb n(f,g) with the summand Z′′ofZ′corresponding to those maps which induce the identity\\nisomorphism of A×(K(A,n)×X) (in the category of group objects of Disc( X/K(A,n)×X)). We now observe\\nthat evaluation at {1}⊆∆1gives a commutative diagram\\nZ′′ →→\\nψ′′\\n↘↘↑↑↑↑↑↑↑↑↑↑ Z′\\nψ′\\n↓↓→→Z\\nψ\\n↓↓\\nXidX/×X{Y} →→XX/×X{Y}.\\nwhere the vertical maps are Kan ﬁbrations. If we ﬁx a pullback square\\n˜X→→\\ng′\\n↓↓˜Y\\n↓↓\\nXh→→Y,\\nthen we can identify ψ−1{h}with MapX/X(idX,g′),ψ′−1{s0h}with MapX/X(X×K(A,n),g′),ψ′)−1{s0h}\\nwith the summand of MapX/X(X×K(A,n),g′) corresponding to those maps which induce the identity on\\nA×(K(A,n)×X) (in the category of group objects of Disc( X/K(A,n)×X)), andθwith the map given by', metadata={'page': 578, 'source': 'data/luri_higher_topos.pdf'}),\n",
       " Document(page_content='and the theory of model categories ([40], [38]). To review al l of these notions and their interrelationships\\nwould involve too great a digression from the main purpose of this book. However, the frequency with which\\nwe will encounter sophisticated categorical construction s necessitates the use of oneof these more eﬃcient\\napproaches. We will employ the theory of weak Kan complexes , which goes back to Boardman-Vogt ([10]).\\nThese objects have subsequently been studied more extensiv ely by Joyal ([43] and [44]), who calls them\\nquasicategories . We will simply call them ∞-categories .\\nTo get a feeling for what an ∞-category Cshould be, it is useful to consider two extreme cases. If every\\nmorphism in Cis invertible, then Cis equivalent to the fundamental ∞-groupoid of a topological space X.\\nIn this case, higher category theory reduces to classical ho motopy theory. On the other hand, if Chas no', metadata={'page': 17, 'source': 'data/luri_higher_topos.pdf'}),\n",
       " Document(page_content='3.3.1.5, it will suﬃce to show that for each object C′inC0, the mapqinduces a homotopy equivalence of\\nKan complexes\\nC0\\n/u×C0{C′}→C0\\n/δC×C0{C′}.\\nThis map can be identiﬁed with the map\\nMapC0(C′,C)→MapM(C′,δC)≃MapC1(δC′,δC),\\nin the homotopy category H, and is therefore a homotopy equivalence by assumption.\\nWe conclude this section by proving that the construction of left Kan extensions behaves well in families.\\nLemma 4.3.3.9. Suppose given a commutative diagram\\nC0q→→\\ni\\n↘↘↗↗↗↗↗↗↗C\\np\\n↓↓F→→D\\nE\\nof∞-categories, where pandqare coCartesian ﬁbrations, iis the inclusion of a full subcategory, and icarries\\nq-coCartesian morphisms of C0top-coCartesian morphisms of C. The following conditions are equivalent:\\n237', metadata={'page': 237, 'source': 'data/luri_higher_topos.pdf'}),\n",
       " Document(page_content='is a homotopy pullback square in Kan. Using Theorem 4.2.4.1, we can reduce questions about pus hout\\ndiagrams in an arbitrary ∞-category to questions about homotopy pullback squares in Kan.\\nThe following basic transitivity property for pushout squa res will be used repeatedly throughout this\\nbook:\\n241', metadata={'page': 241, 'source': 'data/luri_higher_topos.pdf'}),\n",
       " Document(page_content='Proof. LetKdenote the full subcategory of C×∆1spanned by the objects ( C,{i}) where either C∈C0or\\ni= 1, so that we have inclusions\\nMop(δ)⊆K⊆C×∆1.\\nTo prove (1), suppose that f:C→Dis a left Kan extension of f0=f|C0and letFdenote the composite\\nmap\\nK⊆C×∆1→Cf→D.\\nIt follows immediately that Fis a left Kan extension of F|C0×{0}, so thatF|Mop(δ) is a left Kan extension\\noff0alongδ.\\nTo prove (2), we observe that the “only if” follows from (1); t he converse follows from the existence\\ncriterion of Lemma 4.3.2.13.\\nSuppose that δ:K0→K1is a map of simplicial sets, Dan∞-category, and that every diagram K0→D\\nadmits a left Kan extension along δ. Choose a diagram\\nMop(δ)j→→\\n↘↘↑↑↑↑↑↑↑↑↑K\\n↙↙↙↙↙↙↙↙↙↙\\n∆1\\nwherejis inner anodyne and Kis an∞-category, which we regard as a correspondence from K0=K×∆1{0}\\ntoK1=K×∆1{1}. Let Cdenote the full subcategory of Fun( K,D) spanned by those functors F:K→D\\nsuch thatFis a left Kan extension of F0=F|K0. The restriction map p:C→Fun(K0,D) can be written', metadata={'page': 236, 'source': 'data/luri_higher_topos.pdf'}),\n",
       " Document(page_content='of Kan complexes lim−→Afγis a homotopy equivalence. Then there exists a τ-small,κ-ﬁltered subset A′′⊆A\\nsuch thatA′⊆A′′, and lim−→A′′fγ|A′′is a homotopy equivalence for each γ∈C.\\n384', metadata={'page': 384, 'source': 'data/luri_higher_topos.pdf'}),\n",
       " Document(page_content='consider the diagram\\n(S×∆1)∐\\nS×{0}(X×{0})\\n↓↓F0→→Y\\nq\\n↓↓\\nX×∆1g′◦h→→F→→←←←←←←←←←←←←←←\\nZ.\\nSinceqis a left ﬁbration and the left vertical map is left anodyne, i t is possible to supply the dotted arrow\\nFas indicated. Now we observe that f=F|X×{1}has the desired properties.\\n2.1.3 A Characterization of Kan Fibrations\\nLetp:X→Sbe a left ﬁbration of simplicial sets. As we saw in §2.1.1,pdetermines for each vertex sofSa\\nKan complex Xs, and for each edge f:s→s′a map of Kan complexes f!:Xs→Xs′(which is well-deﬁned\\nup to homotopy). If pis a Kan ﬁbration, then the same argument allows us to constru ct a mapXs′→Xs,\\nwhich is a homotopy inverse to f!. Our goal in this section is to prove the following converse:\\nProposition 2.1.3.1. Letp:S→Tbe a left ﬁbration of simplicial sets. The following conditi ons are\\nequivalent:\\n(1)The mappis a Kan ﬁbration.\\n(2)For every edge f:t→t′inT, the mapf!:St→St′is an isomorphism in the homotopy category H\\nof spaces.', metadata={'page': 62, 'source': 'data/luri_higher_topos.pdf'}),\n",
       " Document(page_content='property is automatic (since a map Λn\\n0→Sextends uniquely to ∆nwhenSis isomorphic to the nerve of a\\ncategory).\\nLet us now consider the structure of a general left ﬁbration p:X→S. In the case where Sconsists of\\na single vertex, Proposition 1.2.5.1 asserts that pis a left ﬁbration if and only if Xis a Kan complex. Since\\nthe class of left ﬁbrations is stable under pullback, we dedu ce that for anyleft ﬁbration p:X→Sand\\nany vertex sofS, the ﬁberXs=X×S{s}is a Kan complex (which we can think of as the ∞-categorical\\nanalogue of a groupoid). Moreover, these Kan complexes are r elated to one another. More precisely, suppose\\nthatf:s→s′is an edge of the simplicial set Sand consider the inclusion i:Xs≃Xs×{0}⊆Xs×∆1.\\n55', metadata={'page': 55, 'source': 'data/luri_higher_topos.pdf'})]"
      ]
     },
     "execution_count": 9,
     "metadata": {},
     "output_type": "execute_result"
    }
   ],
   "source": [
    "results"
   ]
  },
  {
   "cell_type": "markdown",
   "metadata": {},
   "source": [
    "# Generation"
   ]
  },
  {
   "cell_type": "code",
   "execution_count": 10,
   "metadata": {},
   "outputs": [],
   "source": [
    "from langchain_core.output_parsers import StrOutputParser\n",
    "from langchain_core.runnables import RunnablePassthrough\n",
    "from langchain_core.prompts import ChatPromptTemplate\n",
    "\n",
    "\n",
    "def format_docs(docs):\n",
    "    return \"\\n\\n\".join(doc.page_content for doc in docs)\n",
    "\n",
    "prompt = ChatPromptTemplate.from_messages(\n",
    "    [\n",
    "        (\"system\", \"\"\"You are a helpful math research assistant. \n",
    "        Always mention the sections or pages you based your answer on.\"\"\"),\n",
    "        (\"human\", \"\"\"Use the following pieces of retrieved context to answer the question. \n",
    "        If you don't know the answer or the answer is not in the context, just say that you don't know.\n",
    "        Question: {question}\n",
    "        Context: {context}\n",
    "        Answer:\"\"\")\n",
    "    ]\n",
    ")\n",
    "\n",
    "rag_chain = (\n",
    "    {\"context\": retriever | format_docs, \"question\": RunnablePassthrough()}\n",
    "    | prompt\n",
    "    | llm\n",
    "    | StrOutputParser()\n",
    ")"
   ]
  },
  {
   "cell_type": "code",
   "execution_count": 12,
   "metadata": {},
   "outputs": [
    {
     "name": "stdout",
     "output_type": "stream",
     "text": [
      "The smooth functions on smooth spaces form a Kan complex because of the properties of Kan complexes and the theory of minimal Kan complexes. In the context of simplicial sets, every Kan complex X is homotopy equivalent to a minimal Kan complex, and a map X→Y of minimal Kan complexes is a homotopy equivalence if and only if it is an isomorphism (Section 1.2.16). This implies that the class of Kan complexes up to homotopy equivalence is equivalent to the class of minimal Kan complexes up to isomorphism. Furthermore, in Proposition 1.2.16.2, it is stated that for every pair of objects X, Y∈Kan, the simplicial set MapKan(X,Y) = Y^X is a Kan complex, which implies that S is an ∞-category. Additionally, in Proposition 1.2.2.3, it is proven that the simplicial set HomR_S(x,y) is a Kan complex when C is an ∞-category. This demonstrates that the space of smooth functions between two smooth spaces forms a Kan complex, making smooth functions on smooth spaces a Kan complex.\n",
      "\n",
      "Therefore, the smooth functions on smooth spaces form a Kan complex due to the properties of Kan complexes and the theory of minimal Kan complexes, as described in the provided context (Section 1.2.16, Proposition 1.2.16.2, Proposition 1.2.2.3).\n"
     ]
    }
   ],
   "source": [
    "res = rag_chain.invoke(\"Why are smooth functions on smooth spaces a Kan complex?\")\n",
    "print(res)"
   ]
  },
  {
   "cell_type": "markdown",
   "metadata": {},
   "source": [
    "# Contextualizing the question"
   ]
  },
  {
   "cell_type": "code",
   "execution_count": 13,
   "metadata": {},
   "outputs": [],
   "source": [
    "from langchain.chains import create_history_aware_retriever\n",
    "from langchain_core.prompts import ChatPromptTemplate, MessagesPlaceholder\n",
    "\n",
    "contextualize_q_system_prompt = \"\"\"Given a chat history and the latest user question \\\n",
    "which might reference context in the chat history, formulate a standalone question \\\n",
    "which can be understood without the chat history. Do NOT answer the question, \\\n",
    "just reformulate it if needed and otherwise return it as is.\"\"\"\n",
    "contextualize_q_prompt = ChatPromptTemplate.from_messages(\n",
    "    [\n",
    "        (\"system\", contextualize_q_system_prompt),\n",
    "        MessagesPlaceholder(\"chat_history\"),\n",
    "        (\"human\", \"{input}\"),\n",
    "    ]\n",
    ")\n",
    "history_aware_retriever = create_history_aware_retriever(\n",
    "    llm, retriever, contextualize_q_prompt\n",
    ")"
   ]
  },
  {
   "cell_type": "code",
   "execution_count": 14,
   "metadata": {},
   "outputs": [],
   "source": [
    "from langchain.chains import create_retrieval_chain\n",
    "from langchain.chains.combine_documents import create_stuff_documents_chain\n",
    "\n",
    "qa_system_prompt = \"\"\"You are a helpful math research assistant. \n",
    "Always mention the sections or pages you base your answer on. \\\n",
    "Use the following pieces of retrieved context to answer the question. \\\n",
    "If you don't know the answer, just say that you don't know. \\\n",
    "\n",
    "{context}\"\"\"\n",
    "qa_prompt = ChatPromptTemplate.from_messages(\n",
    "    [\n",
    "        (\"system\", qa_system_prompt),\n",
    "        MessagesPlaceholder(\"chat_history\"),\n",
    "        (\"human\", \"{input}\"),\n",
    "    ]\n",
    ")\n",
    "\n",
    "\n",
    "question_answer_chain = create_stuff_documents_chain(llm, qa_prompt)\n",
    "\n",
    "rag_chain = create_retrieval_chain(history_aware_retriever, question_answer_chain)"
   ]
  },
  {
   "cell_type": "code",
   "execution_count": 16,
   "metadata": {},
   "outputs": [
    {
     "name": "stdout",
     "output_type": "stream",
     "text": [
      "Certainly! Here are a few examples of Kan complexes:\n",
      "\n",
      "1. Singular Complexes: The singular complex of any topological space is a Kan complex. This follows from the fact that the horn of a singular complex is a retract of the simplex in the category of topological spaces. Conversely, any Kan complex behaves like a space, and there are simple combinatorial recipes for extracting homotopy groups from Kan complexes.\n",
      "\n",
      "2. Homotopy Categories: The homotopy category of CW complexes and the homotopy category of Kan complexes are mutually equivalent. This is a result of a theorem by Quillen, which establishes a correspondence between the homotopy category of CW complexes and the homotopy category of Kan complexes.\n",
      "\n",
      "3. Model Categories: In the context of model categories, Kan complexes play a role in the theory of left and right fibrations. They are used to study the structure of fibrant objects and are closely related to the theory of weak homotopy equivalences.\n",
      "\n",
      "These examples illustrate the diverse applications of Kan complexes in homotopy theory, topological spaces, and model categories. They provide a bridge between the combinatorial structure of simplicial sets and the geometric properties of spaces, making them a fundamental concept in higher category theory.\n",
      "\n",
      "If you have any specific questions about these examples or if you'd like more examples, feel free to ask!\n"
     ]
    }
   ],
   "source": [
    "from langchain_core.messages import HumanMessage\n",
    "\n",
    "chat_history = []\n",
    "\n",
    "question = \"Can you explain what is a Kan complex?\"\n",
    "ai_msg_1 = rag_chain.invoke({\"input\": question, \"chat_history\": chat_history})\n",
    "chat_history.extend([HumanMessage(content=question), ai_msg_1[\"answer\"]])\n",
    "\n",
    "second_question = \"Can you give some examples for it?\"\n",
    "ai_msg_2 = rag_chain.invoke({\"input\": second_question, \"chat_history\": chat_history})\n",
    "\n",
    "print(ai_msg_2[\"answer\"])"
   ]
  },
  {
   "cell_type": "code",
   "execution_count": 17,
   "metadata": {},
   "outputs": [
    {
     "name": "stdout",
     "output_type": "stream",
     "text": [
      "page_content='In the setting of simplicial sets, this problem admits an att ractive formulation in terms of Quillen’s theory\\nofminimal Kan complexes. Every Kan complex Xis homotopy equivalent to a minimal Kan complex, and\\na mapX→Yof minimal Kan complexes is a homotopy equivalence if and onl y if it is an isomorphism.\\nConsequently, the classiﬁcation of Kan complexes up to homo topy equivalence is equivalent to the classi-\\nﬁcation of minimal Kan complexes up to isomorphism. Of course, in practical ter ms, this is not of much\\nuse for solving the classiﬁcation problem. Nevertheless, t he theory of minimal Kan complexes (and, more\\ngenerally, minimal Kan ﬁbrations) is a useful tool in the hom otopy theory of simplicial sets. The purpose\\nof this section is to describe a generalization of the theory of minimal models, in which Kan ﬁbrations are\\nreplaced by inner ﬁbrations. An exposition of this theory ca n also be found in [44].' metadata={'page': 90, 'source': 'data/luri_higher_topos.pdf'}\n",
      "\n",
      "page_content='a Kan complex, then Proposition 3.1.5.7 asserts that the con travariant equivalences are precisely the weak\\nhomotopy equivalences.\\n191' metadata={'page': 191, 'source': 'data/luri_higher_topos.pdf'}\n",
      "\n",
      "page_content='Deﬁnition 1.2.16.1. LetKan denote the full subcategory of Set∆spanned by the collection of Kan com-\\nplexes. We will regard Kan as a simplicial category. Let S= N(Kan) denote the (simplicial) nerve of Kan.\\nWe will refer to Sas the∞-category of spaces .\\nRemark 1.2.16.2. For every pair of objects X,Y∈Kan, the simplicial set MapKan(X,Y) =YXis a Kan\\ncomplex. It follows that Sis an∞-category (Proposition 1.1.5.10).\\nRemark 1.2.16.3. There are many other ways to obtain a suitable “ ∞-category of spaces”. For example,\\nwe could instead deﬁne Sto be the (topological) nerve of the category of CW-complexe s and continuous\\nmaps. All that really matters is that we have a ∞-category which is equivalent to S= N(Kan). We have\\nselected Deﬁnition 1.2.16.1 for deﬁniteness and to simplif y our discussion of the Yoneda embedding in §5.1.3.\\nRemark 1.2.16.4. We will occasionally need to distinguish between “large” sp aces and “small” spaces. In' metadata={'page': 51, 'source': 'data/luri_higher_topos.pdf'}\n",
      "\n",
      "page_content='Z, the associated diagram of Kan complexes\\n[Z,X/π∗U] →→\\n↓↓[Z,Y/U]\\n↓↓\\n[Z,X] →→[Z,Y]\\nis homotopy Cartesian. Lemma 7.3.2.11 implies that the vert ical maps are inclusions of full simplicial subsets.\\nIt therefore suﬃces to show that if φ∗:Z→Yis a geometric morphism such that π∗◦φ∗factors through\\nY/U, thenφ∗factors through X/π∗U. This follows immediately from the characterization given in Lemma\\n7.3.2.11.\\n600' metadata={'page': 600, 'source': 'data/luri_higher_topos.pdf'}\n",
      "\n",
      "page_content='4.3 Kan Extensions\\nLetCandIbe ordinary categories. There is an obvious “diagonal” func torδ:C→CI, which carries an\\nobjectC∈Cto the constant diagram I→Ctaking the value C. IfCadmits small colimits, then the functor\\nδhas a left adjoint CI→C. This left adjoint admits an explicit description: it carri es an arbitrary diagram\\nf:I→Cto the colimit lim−→(f). Consequently, we can think of the theory of colimits as the study of left\\nadjoints to diagonal functors.\\nMore generally, if one is given a functor i:I→I′between diagram categories, then composition with i\\ninduces a functor i∗:CI′→CI. Assuming that Chas a suﬃcient supply of colimits, one can construct a left\\nadjoint toi∗. We then refer to this left adjoint as left Kan extension along i.\\nIn this section, we will study the ∞-categorical analogue of the theory of left Kan extensions. In the\\nextreme case where I′is the one-object category ∗, this theory simply reduces to the theory of colimits' metadata={'page': 215, 'source': 'data/luri_higher_topos.pdf'}\n",
      "\n",
      "page_content='κ-small, 621\\nf-colimit, 215\\nk-truncated\\nmap between Kan complexes, 400\\nmorphism in an∞-category, 400\\nobject of an∞-category, 399\\nn-categoriesand functor categories, 96\\nand overcategories, 97\\nn-category, 94, 99\\nunderlying an∞-category, 97\\nn-gerbe, 575\\nn-topos, 3, 506\\n´ etale morphism, 489\\nabelian category\\nGrothendieck, 606\\nabsolute neighborhood retract, 615\\naccessible\\n∞-category, 345\\n∞-category of sections, 371\\nadjoint functors, 367\\ncategory, 5\\ncoproducts, 366\\nfunctor, 346\\nfunctor categories, 354\\nhomotopy ﬁber products, 364\\nlocalization, 373\\novercategories, 365\\nproducts, 366\\nsubcategory, 368, 646\\nundercategories, 361\\nadjoint functor\\nand (co)limits, 283\\nand composition, 277\\nand unit transformations, 277\\nbetween Ind-categories, 334\\nbetween∞-categories, 275\\nbetween ordinary categories, 271\\nexistence of, 279\\nQuillen, 286\\nadjoint functor theorem, 378\\nadjunction, 275\\nQuillen, 645\\nalgebraic morphism, 503\\nanodyne, 52\\ninner, 52\\nleft, 52, 60\\nmarked, 127\\nright, 52\\nbarycentric subdivision, 211' metadata={'page': 723, 'source': 'data/luri_higher_topos.pdf'}\n",
      "\n",
      "page_content='of Kan complexes lim−→Afγis a homotopy equivalence. Then there exists a τ-small,κ-ﬁltered subset A′′⊆A\\nsuch thatA′⊆A′′, and lim−→A′′fγ|A′′is a homotopy equivalence for each γ∈C.\\n384' metadata={'page': 384, 'source': 'data/luri_higher_topos.pdf'}\n",
      "\n",
      "page_content='Consequently, we may identify MapX(X,˜Y) with the Kan complex\\nZ= Fun(∆1,X)idX/×Fun(∆1,X){g}.\\nSimilarly, the trivial ﬁbration Fun(∆1,X)α/→Fun(∆1,X)f/allows us to identify MapGerb n(f,g) with the\\nKan complex\\nZ′= Fun(∆1,X)α/×Fun(∆1,X){g},\\nand MapGerb n(f,g) with the summand Z′′ofZ′corresponding to those maps which induce the identity\\nisomorphism of A×(K(A,n)×X) (in the category of group objects of Disc( X/K(A,n)×X)). We now observe\\nthat evaluation at {1}⊆∆1gives a commutative diagram\\nZ′′ →→\\nψ′′\\n↘↘↑↑↑↑↑↑↑↑↑↑ Z′\\nψ′\\n↓↓→→Z\\nψ\\n↓↓\\nXidX/×X{Y} →→XX/×X{Y}.\\nwhere the vertical maps are Kan ﬁbrations. If we ﬁx a pullback square\\n˜X→→\\ng′\\n↓↓˜Y\\n↓↓\\nXh→→Y,\\nthen we can identify ψ−1{h}with MapX/X(idX,g′),ψ′−1{s0h}with MapX/X(X×K(A,n),g′),ψ′)−1{s0h}\\nwith the summand of MapX/X(X×K(A,n),g′) corresponding to those maps which induce the identity on\\nA×(K(A,n)×X) (in the category of group objects of Disc( X/K(A,n)×X)), andθwith the map given by' metadata={'page': 578, 'source': 'data/luri_higher_topos.pdf'}\n",
      "\n",
      "page_content='any diagram of solid arrows\\nΛn\\ni→→↙↖\\n↓↓K\\n∆n↗↗↙↙↙↙\\nthere exists a dotted arrow as indicated rendering the diagr am commutative. Here Λn\\ni⊆∆ndenotes the ith\\nhorn, obtained from the simplex ∆nby deleting the interior and the face opposite the ith vertex.\\nThe singular complex of any topological space Xis a Kan complex: this follows from the fact that the\\nhorn|Λn\\ni|is a retract of the simplex |∆n|in the category of topological spaces. Conversely, any Kan c omplex\\nK“behaves like” a space: for example, there are simple combin atorial recipes for extracting homotopy groups\\nfromK(which turn out be isomorphic to the homotopy groups of the to pological space|K|). According to\\na theorem of Quillen (see [32] for a proof), the singular comp lex and geometric realization provide mutually\\ninverse equivalences between the homotopy category of CW co mplexes and the homotopy category of Kan\\ncomplexes.\\nThe formalism of simplicial sets is also closely related to c ategory theory. To any category C, we can' metadata={'page': 18, 'source': 'data/luri_higher_topos.pdf'}\n",
      "\n",
      "page_content='(3)There exists a κ-small Kan complex X′and a homotopy equivalence X′→X.\\n(4)There exists a κ-small simplicial set Kand a weak homotopy equivalence K→X.\\n(5)The∞-category Cisκ-compact, when regarded as an object of S.\\n(6)The Kan complex Xis essentially small (when regarded as an ∞-category ).\\nProof. The equivalences (1) ⇔(2)⇔(3)⇔(6) follow from Proposition 5.4.1.2. The implication (3) ⇒(4)\\nis obvious. We next prove that (4) ⇒(5). Letp:K→Sbe the constant diagram taking the value ∗, let\\np:K⊲→Sbe a colimit of p, and letX′∈Sbe the image under pof the cone point of K⊲. It follows\\nfrom Proposition 5.1.6.8 that ∗is aκ-compact object of S. Corollary 5.3.4.15 implies that X′is aκ-compact\\nobject of S. Let ˜K→K⊲denote the left ﬁbration associated to p, and letX′′⊆˜Kdenote the ﬁber lying over\\nthe cone point of K⊲. The inclusion of the cone point in K⊲is right anodyne. It follows from Proposition' metadata={'page': 344, 'source': 'data/luri_higher_topos.pdf'}\n",
      "\n",
      "page_content='3.3.1.5, it will suﬃce to show that for each object C′inC0, the mapqinduces a homotopy equivalence of\\nKan complexes\\nC0\\n/u×C0{C′}→C0\\n/δC×C0{C′}.\\nThis map can be identiﬁed with the map\\nMapC0(C′,C)→MapM(C′,δC)≃MapC1(δC′,δC),\\nin the homotopy category H, and is therefore a homotopy equivalence by assumption.\\nWe conclude this section by proving that the construction of left Kan extensions behaves well in families.\\nLemma 4.3.3.9. Suppose given a commutative diagram\\nC0q→→\\ni\\n↘↘↗↗↗↗↗↗↗C\\np\\n↓↓F→→D\\nE\\nof∞-categories, where pandqare coCartesian ﬁbrations, iis the inclusion of a full subcategory, and icarries\\nq-coCartesian morphisms of C0top-coCartesian morphisms of C. The following conditions are equivalent:\\n237' metadata={'page': 237, 'source': 'data/luri_higher_topos.pdf'}\n",
      "\n",
      "page_content='weak Kan complexes orquasicategories in the literature). Our intention is that §1 can be used as a short\\n“user’s guide” to ∞-categories: it contains many of the basic deﬁnitions, and e xplains how many ideas from\\nclassical category theory can be extended to the ∞-categorical context. To simplify the exposition, we have\\ndeferred many proofs until later chapters, which contain a m ore thorough account of the theory. The hope\\nis that§1 will be useful to readers who want to get the ﬂavor of the subj ect, without becoming overwhelmed\\nby technical details.\\nIn§2 we will shift our focus slightly: rather than study individ ual examples of∞-categories, we consider\\nfamilies of∞-categories{CD}D∈Dparametrized by the objects of another ∞-category D. We might expect\\nsuch a family to be given by a map of ∞-categories p:C→D: given such a map, we can then deﬁne each\\nCDto be the ﬁber product C×D{D}. This deﬁnition behaves poorly in general (for example, the ﬁbers CD' metadata={'page': 3, 'source': 'data/luri_higher_topos.pdf'}\n",
      "\n",
      "page_content='property is automatic (since a map Λn\\n0→Sextends uniquely to ∆nwhenSis isomorphic to the nerve of a\\ncategory).\\nLet us now consider the structure of a general left ﬁbration p:X→S. In the case where Sconsists of\\na single vertex, Proposition 1.2.5.1 asserts that pis a left ﬁbration if and only if Xis a Kan complex. Since\\nthe class of left ﬁbrations is stable under pullback, we dedu ce that for anyleft ﬁbration p:X→Sand\\nany vertex sofS, the ﬁberXs=X×S{s}is a Kan complex (which we can think of as the ∞-categorical\\nanalogue of a groupoid). Moreover, these Kan complexes are r elated to one another. More precisely, suppose\\nthatf:s→s′is an edge of the simplicial set Sand consider the inclusion i:Xs≃Xs×{0}⊆Xs×∆1.\\n55' metadata={'page': 55, 'source': 'data/luri_higher_topos.pdf'}\n",
      "\n",
      "page_content='can be obtained from the theory of left Kan extensions by pass ing to opposite∞-categories.\\n4.3.3 Kan Extensions along General Functors\\nOur goal in this section is to generalize the theory of Kan ext ensions to the case where the change of diagram\\ncategory is not necessarily given by a fully faithful inclus ionC0⊆C. As in§4.3.2, we will discuss only the\\ntheory of leftKan extensions; a dual theory of right Kan extensions can be o btained by passing to opposite\\n∞-categories.\\nThe ideas introduced in this section are relatively element ary extensions of the ideas of §4.3.2. However,\\nwe will encounter a new complication. Let δ:C→C′be a change of diagram ∞-category,f:C→Da\\nfunctor, and δ!(f) :C′→Dits left Kan extension along δ(to be deﬁned below). Then one does not generally\\nexpect that δ∗δ!(f) to be equivalent to the original functor f. Instead, one has only a unit transformation\\nf→δ∗δ!(f). To set up the theory, this unit transformation must be take n as part of the data. Consequently,' metadata={'page': 234, 'source': 'data/luri_higher_topos.pdf'}\n",
      "\n",
      "page_content='is a homotopy pullback square in Kan. Using Theorem 4.2.4.1, we can reduce questions about pus hout\\ndiagrams in an arbitrary ∞-category to questions about homotopy pullback squares in Kan.\\nThe following basic transitivity property for pushout squa res will be used repeatedly throughout this\\nbook:\\n241' metadata={'page': 241, 'source': 'data/luri_higher_topos.pdf'}\n",
      "\n",
      "page_content='toK1=K×∆1{1}. Let Cdenote the full subcategory of Fun( K,D) spanned by those functors F:K→D\\nsuch thatFis a left Kan extension of F0=F|K0. The restriction map p:C→Fun(K0,D) can be written\\nas a composition of C→DK0(a trivial ﬁbration by Proposition 4.3.2.15) and Fun( K0,D)→Fun(K0,D)\\n(a trivial ﬁbration since K0→K0is inner anodyne), and is therefore a trivial ﬁbration. Let δ!be the\\ncomposition of a section of pwith the restriction map C⊆Fun(K,D)→Fun(Mop(δ),D), and letδ!denote\\nthe composition of δ!with the restriction map Fun( Mop(δ),D)→Fun(K1,D). Thenδ!andδ!are well-\\ndeﬁned up to equivalence, at least once Khas been ﬁxed (independence of the choice of Kwill follow from\\nthe characterization given in Proposition 4.3.3.7). We wil l abuse terminology by referring to bothδ!andδ!\\nasleft Kan extension along δ(it should be clear from context which of these functors is me ant in a given\\nsituation). We observe that δ!assigns to each object f0:K0→Da left Kan extension of f0alongδ.' metadata={'page': 236, 'source': 'data/luri_higher_topos.pdf'}\n",
      "\n",
      "page_content='complex representing a compact object of S. Then there exists a simplicial set Ywith only ﬁnitely many\\nnondegenerate simplices, and a map i:Y→Xwhich realizes Xas aretract ofYin the homotopy category\\nHof spaces. However, one cannot generally assume that Yis a Kan complex, or that iis a weak homotopy\\nequivalence. The latter can be achieved if Xis connected and simply connected, or more generally if a\\ncertainK-theoretic invariant of X(theWall ﬁniteness obstruction ) vanishes: we refer the reader to [81] for\\na discussion.\\n344' metadata={'page': 344, 'source': 'data/luri_higher_topos.pdf'}\n",
      "\n",
      "page_content='consider the diagram\\n(S×∆1)∐\\nS×{0}(X×{0})\\n↓↓F0→→Y\\nq\\n↓↓\\nX×∆1g′◦h→→F→→←←←←←←←←←←←←←←\\nZ.\\nSinceqis a left ﬁbration and the left vertical map is left anodyne, i t is possible to supply the dotted arrow\\nFas indicated. Now we observe that f=F|X×{1}has the desired properties.\\n2.1.3 A Characterization of Kan Fibrations\\nLetp:X→Sbe a left ﬁbration of simplicial sets. As we saw in §2.1.1,pdetermines for each vertex sofSa\\nKan complex Xs, and for each edge f:s→s′a map of Kan complexes f!:Xs→Xs′(which is well-deﬁned\\nup to homotopy). If pis a Kan ﬁbration, then the same argument allows us to constru ct a mapXs′→Xs,\\nwhich is a homotopy inverse to f!. Our goal in this section is to prove the following converse:\\nProposition 2.1.3.1. Letp:S→Tbe a left ﬁbration of simplicial sets. The following conditi ons are\\nequivalent:\\n(1)The mappis a Kan ﬁbration.\\n(2)For every edge f:t→t′inT, the mapf!:St→St′is an isomorphism in the homotopy category H\\nof spaces.' metadata={'page': 62, 'source': 'data/luri_higher_topos.pdf'}\n",
      "\n",
      "page_content='Proof. LetKdenote the full subcategory of C×∆1spanned by the objects ( C,{i}) where either C∈C0or\\ni= 1, so that we have inclusions\\nMop(δ)⊆K⊆C×∆1.\\nTo prove (1), suppose that f:C→Dis a left Kan extension of f0=f|C0and letFdenote the composite\\nmap\\nK⊆C×∆1→Cf→D.\\nIt follows immediately that Fis a left Kan extension of F|C0×{0}, so thatF|Mop(δ) is a left Kan extension\\noff0alongδ.\\nTo prove (2), we observe that the “only if” follows from (1); t he converse follows from the existence\\ncriterion of Lemma 4.3.2.13.\\nSuppose that δ:K0→K1is a map of simplicial sets, Dan∞-category, and that every diagram K0→D\\nadmits a left Kan extension along δ. Choose a diagram\\nMop(δ)j→→\\n↘↘↑↑↑↑↑↑↑↑↑K\\n↙↙↙↙↙↙↙↙↙↙\\n∆1\\nwherejis inner anodyne and Kis an∞-category, which we regard as a correspondence from K0=K×∆1{0}\\ntoK1=K×∆1{1}. Let Cdenote the full subcategory of Fun( K,D) spanned by those functors F:K→D\\nsuch thatFis a left Kan extension of F0=F|K0. The restriction map p:C→Fun(K0,D) can be written' metadata={'page': 236, 'source': 'data/luri_higher_topos.pdf'}\n",
      "\n",
      "page_content='follow Joyal’s terminology. In particular, we will use the t erm∞-category to refer to what Joyal calls a\\nquasicategory (which are, in turn, the same as the weak Kan complex of Boardman and Vogt); we will\\nuse the terms inner ﬁbration andinner anodyne map where Joyal uses mid-ﬁbration andmid-anodyne\\nmap.\\n5' metadata={'page': 5, 'source': 'data/luri_higher_topos.pdf'}\n",
      "\n"
     ]
    }
   ],
   "source": [
    "for document in ai_msg_1[\"context\"]:\n",
    "    print(document)\n",
    "    print()"
   ]
  },
  {
   "cell_type": "code",
   "execution_count": 20,
   "metadata": {},
   "outputs": [
    {
     "data": {
      "text/plain": [
       "{'input': 'Can you give some examples for it?',\n",
       " 'chat_history': [HumanMessage(content='Can you explain what is a Kan complex?'),\n",
       "  \"A Kan complex is a type of simplicial set that behaves like a space. It is closely related to the theory of homotopy and is used to study homotopy theory in the context of simplicial sets. Kan complexes are important in the theory of minimal models and are closely related to the theory of left and right Kan extensions. In the context of ∞-categories, Kan complexes play a role in the theory of homotopy pullback squares and the study of left fibrations. They are also used to represent compact objects in ∞-categories.\\n\\nIn more technical terms, a Kan complex is a simplicial set in which every horn can be filled. Horns are certain types of sub-simplicial sets, and the ability to fill them is a key property that characterizes Kan complexes. This property is related to the notion of weak homotopy equivalences and is used to study the homotopy theory of simplicial sets.\\n\\nThe theory of Kan complexes is closely related to the theory of quasicategories, and they are often used interchangeably in the literature. Kan complexes are also closely related to the theory of left and right fibrations, and they play a key role in the study of homotopy pullback squares.\\n\\nIn summary, Kan complexes are a fundamental concept in the theory of simplicial sets and ∞-categories, and they are used to study homotopy theory and higher category theory.\\n\\nLet me know if you'd like me to elaborate on any specific aspect of Kan complexes!\"],\n",
       " 'context': [Document(page_content='4.3.3 Kan Extensions along General Functors . . . . . . . . . . . . . . . . . . . . . . . . . . 234\\n4.4 Examples of Colimits . . . . . . . . . . . . . . . . . . . . . . . . . . . . . . . . . . . . . . . . . 240\\n4.4.1 Coproducts . . . . . . . . . . . . . . . . . . . . . . . . . . . . . . . . . . . . . . . . . . 240\\n4.4.2 Pushouts . . . . . . . . . . . . . . . . . . . . . . . . . . . . . . . . . . . . . . . . . . . 241\\n4.4.3 Coequalizers . . . . . . . . . . . . . . . . . . . . . . . . . . . . . . . . . . . . . . . . . 245\\n4.4.4 Tensoring with Spaces . . . . . . . . . . . . . . . . . . . . . . . . . . . . . . . . . . . . 245\\n4.4.5 Retracts and Idempotents . . . . . . . . . . . . . . . . . . . . . . . . . . . . . . . . . . 248\\n8', metadata={'page': 8, 'source': 'data/luri_higher_topos.pdf'}),\n",
       "  Document(page_content='Deﬁnition 1.2.16.1. LetKan denote the full subcategory of Set∆spanned by the collection of Kan com-\\nplexes. We will regard Kan as a simplicial category. Let S= N(Kan) denote the (simplicial) nerve of Kan.\\nWe will refer to Sas the∞-category of spaces .\\nRemark 1.2.16.2. For every pair of objects X,Y∈Kan, the simplicial set MapKan(X,Y) =YXis a Kan\\ncomplex. It follows that Sis an∞-category (Proposition 1.1.5.10).\\nRemark 1.2.16.3. There are many other ways to obtain a suitable “ ∞-category of spaces”. For example,\\nwe could instead deﬁne Sto be the (topological) nerve of the category of CW-complexe s and continuous\\nmaps. All that really matters is that we have a ∞-category which is equivalent to S= N(Kan). We have\\nselected Deﬁnition 1.2.16.1 for deﬁniteness and to simplif y our discussion of the Yoneda embedding in §5.1.3.\\nRemark 1.2.16.4. We will occasionally need to distinguish between “large” sp aces and “small” spaces. In', metadata={'page': 51, 'source': 'data/luri_higher_topos.pdf'}),\n",
       "  Document(page_content='κ-small, 621\\nf-colimit, 215\\nk-truncated\\nmap between Kan complexes, 400\\nmorphism in an∞-category, 400\\nobject of an∞-category, 399\\nn-categoriesand functor categories, 96\\nand overcategories, 97\\nn-category, 94, 99\\nunderlying an∞-category, 97\\nn-gerbe, 575\\nn-topos, 3, 506\\n´ etale morphism, 489\\nabelian category\\nGrothendieck, 606\\nabsolute neighborhood retract, 615\\naccessible\\n∞-category, 345\\n∞-category of sections, 371\\nadjoint functors, 367\\ncategory, 5\\ncoproducts, 366\\nfunctor, 346\\nfunctor categories, 354\\nhomotopy ﬁber products, 364\\nlocalization, 373\\novercategories, 365\\nproducts, 366\\nsubcategory, 368, 646\\nundercategories, 361\\nadjoint functor\\nand (co)limits, 283\\nand composition, 277\\nand unit transformations, 277\\nbetween Ind-categories, 334\\nbetween∞-categories, 275\\nbetween ordinary categories, 271\\nexistence of, 279\\nQuillen, 286\\nadjoint functor theorem, 378\\nadjunction, 275\\nQuillen, 645\\nalgebraic morphism, 503\\nanodyne, 52\\ninner, 52\\nleft, 52, 60\\nmarked, 127\\nright, 52\\nbarycentric subdivision, 211', metadata={'page': 723, 'source': 'data/luri_higher_topos.pdf'}),\n",
       "  Document(page_content='weak Kan complexes orquasicategories in the literature). Our intention is that §1 can be used as a short\\n“user’s guide” to ∞-categories: it contains many of the basic deﬁnitions, and e xplains how many ideas from\\nclassical category theory can be extended to the ∞-categorical context. To simplify the exposition, we have\\ndeferred many proofs until later chapters, which contain a m ore thorough account of the theory. The hope\\nis that§1 will be useful to readers who want to get the ﬂavor of the subj ect, without becoming overwhelmed\\nby technical details.\\nIn§2 we will shift our focus slightly: rather than study individ ual examples of∞-categories, we consider\\nfamilies of∞-categories{CD}D∈Dparametrized by the objects of another ∞-category D. We might expect\\nsuch a family to be given by a map of ∞-categories p:C→D: given such a map, we can then deﬁne each\\nCDto be the ﬁber product C×D{D}. This deﬁnition behaves poorly in general (for example, the ﬁbers CD', metadata={'page': 3, 'source': 'data/luri_higher_topos.pdf'}),\n",
       "  Document(page_content='Z, the associated diagram of Kan complexes\\n[Z,X/π∗U] →→\\n↓↓[Z,Y/U]\\n↓↓\\n[Z,X] →→[Z,Y]\\nis homotopy Cartesian. Lemma 7.3.2.11 implies that the vert ical maps are inclusions of full simplicial subsets.\\nIt therefore suﬃces to show that if φ∗:Z→Yis a geometric morphism such that π∗◦φ∗factors through\\nY/U, thenφ∗factors through X/π∗U. This follows immediately from the characterization given in Lemma\\n7.3.2.11.\\n600', metadata={'page': 600, 'source': 'data/luri_higher_topos.pdf'}),\n",
       "  Document(page_content='4.3 Kan Extensions\\nLetCandIbe ordinary categories. There is an obvious “diagonal” func torδ:C→CI, which carries an\\nobjectC∈Cto the constant diagram I→Ctaking the value C. IfCadmits small colimits, then the functor\\nδhas a left adjoint CI→C. This left adjoint admits an explicit description: it carri es an arbitrary diagram\\nf:I→Cto the colimit lim−→(f). Consequently, we can think of the theory of colimits as the study of left\\nadjoints to diagonal functors.\\nMore generally, if one is given a functor i:I→I′between diagram categories, then composition with i\\ninduces a functor i∗:CI′→CI. Assuming that Chas a suﬃcient supply of colimits, one can construct a left\\nadjoint toi∗. We then refer to this left adjoint as left Kan extension along i.\\nIn this section, we will study the ∞-categorical analogue of the theory of left Kan extensions. In the\\nextreme case where I′is the one-object category ∗, this theory simply reduces to the theory of colimits', metadata={'page': 215, 'source': 'data/luri_higher_topos.pdf'}),\n",
       "  Document(page_content='any diagram of solid arrows\\nΛn\\ni→→↙↖\\n↓↓K\\n∆n↗↗↙↙↙↙\\nthere exists a dotted arrow as indicated rendering the diagr am commutative. Here Λn\\ni⊆∆ndenotes the ith\\nhorn, obtained from the simplex ∆nby deleting the interior and the face opposite the ith vertex.\\nThe singular complex of any topological space Xis a Kan complex: this follows from the fact that the\\nhorn|Λn\\ni|is a retract of the simplex |∆n|in the category of topological spaces. Conversely, any Kan c omplex\\nK“behaves like” a space: for example, there are simple combin atorial recipes for extracting homotopy groups\\nfromK(which turn out be isomorphic to the homotopy groups of the to pological space|K|). According to\\na theorem of Quillen (see [32] for a proof), the singular comp lex and geometric realization provide mutually\\ninverse equivalences between the homotopy category of CW co mplexes and the homotopy category of Kan\\ncomplexes.\\nThe formalism of simplicial sets is also closely related to c ategory theory. To any category C, we can', metadata={'page': 18, 'source': 'data/luri_higher_topos.pdf'}),\n",
       "  Document(page_content='3.3.1.5, it will suﬃce to show that for each object C′inC0, the mapqinduces a homotopy equivalence of\\nKan complexes\\nC0\\n/u×C0{C′}→C0\\n/δC×C0{C′}.\\nThis map can be identiﬁed with the map\\nMapC0(C′,C)→MapM(C′,δC)≃MapC1(δC′,δC),\\nin the homotopy category H, and is therefore a homotopy equivalence by assumption.\\nWe conclude this section by proving that the construction of left Kan extensions behaves well in families.\\nLemma 4.3.3.9. Suppose given a commutative diagram\\nC0q→→\\ni\\n↘↘↗↗↗↗↗↗↗C\\np\\n↓↓F→→D\\nE\\nof∞-categories, where pandqare coCartesian ﬁbrations, iis the inclusion of a full subcategory, and icarries\\nq-coCartesian morphisms of C0top-coCartesian morphisms of C. The following conditions are equivalent:\\n237', metadata={'page': 237, 'source': 'data/luri_higher_topos.pdf'}),\n",
       "  Document(page_content='can be obtained from the theory of left Kan extensions by pass ing to opposite∞-categories.\\n4.3.3 Kan Extensions along General Functors\\nOur goal in this section is to generalize the theory of Kan ext ensions to the case where the change of diagram\\ncategory is not necessarily given by a fully faithful inclus ionC0⊆C. As in§4.3.2, we will discuss only the\\ntheory of leftKan extensions; a dual theory of right Kan extensions can be o btained by passing to opposite\\n∞-categories.\\nThe ideas introduced in this section are relatively element ary extensions of the ideas of §4.3.2. However,\\nwe will encounter a new complication. Let δ:C→C′be a change of diagram ∞-category,f:C→Da\\nfunctor, and δ!(f) :C′→Dits left Kan extension along δ(to be deﬁned below). Then one does not generally\\nexpect that δ∗δ!(f) to be equivalent to the original functor f. Instead, one has only a unit transformation\\nf→δ∗δ!(f). To set up the theory, this unit transformation must be take n as part of the data. Consequently,', metadata={'page': 234, 'source': 'data/luri_higher_topos.pdf'}),\n",
       "  Document(page_content='Consequently, we may identify MapX(X,˜Y) with the Kan complex\\nZ= Fun(∆1,X)idX/×Fun(∆1,X){g}.\\nSimilarly, the trivial ﬁbration Fun(∆1,X)α/→Fun(∆1,X)f/allows us to identify MapGerb n(f,g) with the\\nKan complex\\nZ′= Fun(∆1,X)α/×Fun(∆1,X){g},\\nand MapGerb n(f,g) with the summand Z′′ofZ′corresponding to those maps which induce the identity\\nisomorphism of A×(K(A,n)×X) (in the category of group objects of Disc( X/K(A,n)×X)). We now observe\\nthat evaluation at {1}⊆∆1gives a commutative diagram\\nZ′′ →→\\nψ′′\\n↘↘↑↑↑↑↑↑↑↑↑↑ Z′\\nψ′\\n↓↓→→Z\\nψ\\n↓↓\\nXidX/×X{Y} →→XX/×X{Y}.\\nwhere the vertical maps are Kan ﬁbrations. If we ﬁx a pullback square\\n˜X→→\\ng′\\n↓↓˜Y\\n↓↓\\nXh→→Y,\\nthen we can identify ψ−1{h}with MapX/X(idX,g′),ψ′−1{s0h}with MapX/X(X×K(A,n),g′),ψ′)−1{s0h}\\nwith the summand of MapX/X(X×K(A,n),g′) corresponding to those maps which induce the identity on\\nA×(K(A,n)×X) (in the category of group objects of Disc( X/K(A,n)×X)), andθwith the map given by', metadata={'page': 578, 'source': 'data/luri_higher_topos.pdf'}),\n",
       "  Document(page_content='and the theory of model categories ([40], [38]). To review al l of these notions and their interrelationships\\nwould involve too great a digression from the main purpose of this book. However, the frequency with which\\nwe will encounter sophisticated categorical construction s necessitates the use of oneof these more eﬃcient\\napproaches. We will employ the theory of weak Kan complexes , which goes back to Boardman-Vogt ([10]).\\nThese objects have subsequently been studied more extensiv ely by Joyal ([43] and [44]), who calls them\\nquasicategories . We will simply call them ∞-categories .\\nTo get a feeling for what an ∞-category Cshould be, it is useful to consider two extreme cases. If every\\nmorphism in Cis invertible, then Cis equivalent to the fundamental ∞-groupoid of a topological space X.\\nIn this case, higher category theory reduces to classical ho motopy theory. On the other hand, if Chas no', metadata={'page': 17, 'source': 'data/luri_higher_topos.pdf'}),\n",
       "  Document(page_content='Proof. LetKdenote the full subcategory of C×∆1spanned by the objects ( C,{i}) where either C∈C0or\\ni= 1, so that we have inclusions\\nMop(δ)⊆K⊆C×∆1.\\nTo prove (1), suppose that f:C→Dis a left Kan extension of f0=f|C0and letFdenote the composite\\nmap\\nK⊆C×∆1→Cf→D.\\nIt follows immediately that Fis a left Kan extension of F|C0×{0}, so thatF|Mop(δ) is a left Kan extension\\noff0alongδ.\\nTo prove (2), we observe that the “only if” follows from (1); t he converse follows from the existence\\ncriterion of Lemma 4.3.2.13.\\nSuppose that δ:K0→K1is a map of simplicial sets, Dan∞-category, and that every diagram K0→D\\nadmits a left Kan extension along δ. Choose a diagram\\nMop(δ)j→→\\n↘↘↑↑↑↑↑↑↑↑↑K\\n↙↙↙↙↙↙↙↙↙↙\\n∆1\\nwherejis inner anodyne and Kis an∞-category, which we regard as a correspondence from K0=K×∆1{0}\\ntoK1=K×∆1{1}. Let Cdenote the full subcategory of Fun( K,D) spanned by those functors F:K→D\\nsuch thatFis a left Kan extension of F0=F|K0. The restriction map p:C→Fun(K0,D) can be written', metadata={'page': 236, 'source': 'data/luri_higher_topos.pdf'}),\n",
       "  Document(page_content='example, we have the following:\\nRemark A.3.1.8. LetCbe a simplicial model category, let Xbe a coﬁbrant object of C, and letYbe a\\nﬁbrant object of C. The simplicial set K= MapC(X,Y) is a Kan complex; moreover, there is a canonical\\nbijection\\nπ0K≃Hom hC(X,Y).\\nWe conclude this section by studying a situation which will a rise in§3. Let CandDbe model categories\\nenriched over another model category S, and suppose given a Quillen adjunction\\nCF→→D\\nG←←\\nbetween the underlying model categories. We wish to study th e situation where G(but notF) has the\\nstructure of a S-enriched functor. Thus, for every triple of objects X∈C,Y∈D,S∈S, we have a\\ncanonical map\\nHom C(S⊗X,GY )≃HomS(S,MapC(X,GY ))\\n→HomS(S,MapD(FX,FGY ))\\n≃Hom D(S⊗FX,FGY )\\n→Hom D(S⊗FX,Y ).\\nTakingY=F(S⊗X) and applying this map to the unit of the adjunction between FandG, we obtain a\\nmapS⊗FX→F(S⊗X), which we will denote by βX,S. The collection of maps βX,Sis simply another', metadata={'page': 673, 'source': 'data/luri_higher_topos.pdf'}),\n",
       "  Document(page_content='consider the diagram\\n(S×∆1)∐\\nS×{0}(X×{0})\\n↓↓F0→→Y\\nq\\n↓↓\\nX×∆1g′◦h→→F→→←←←←←←←←←←←←←←\\nZ.\\nSinceqis a left ﬁbration and the left vertical map is left anodyne, i t is possible to supply the dotted arrow\\nFas indicated. Now we observe that f=F|X×{1}has the desired properties.\\n2.1.3 A Characterization of Kan Fibrations\\nLetp:X→Sbe a left ﬁbration of simplicial sets. As we saw in §2.1.1,pdetermines for each vertex sofSa\\nKan complex Xs, and for each edge f:s→s′a map of Kan complexes f!:Xs→Xs′(which is well-deﬁned\\nup to homotopy). If pis a Kan ﬁbration, then the same argument allows us to constru ct a mapXs′→Xs,\\nwhich is a homotopy inverse to f!. Our goal in this section is to prove the following converse:\\nProposition 2.1.3.1. Letp:S→Tbe a left ﬁbration of simplicial sets. The following conditi ons are\\nequivalent:\\n(1)The mappis a Kan ﬁbration.\\n(2)For every edge f:t→t′inT, the mapf!:St→St′is an isomorphism in the homotopy category H\\nof spaces.', metadata={'page': 62, 'source': 'data/luri_higher_topos.pdf'}),\n",
       "  Document(page_content='be used to provide answers to questions ( Q1) and (Q2) (for more details, we refer the reader to §6.5.2).\\nQuestion (Q3) has also been addressed (at least in limiting case n=∞) by To¨ en and Vezzosi (see [78]) and\\nin published work of Rezk.\\nTo provide more complete versions of the answers ( A2) and (A3), we will need to develop the language\\nofhigher category theory . This is generally regarded as a technical and forbidding su bject, but fortunately\\nwe will only need a small fragment of it. More precisely, we wi ll need a theory of ( ∞,1)-categories : higher\\ncategories Cfor which the k-morphisms of Care required to be invertible for k >1. In§1, we will present\\nsuch a theory: namely, one can deﬁne an ∞-category to be a simplicial set satisfying a weakened version of\\nthe Kan extension condition (see Deﬁnition 1.1.2.4; simpli cial sets satisfying this condition are also called\\nweak Kan complexes orquasicategories in the literature). Our intention is that §1 can be used as a short', metadata={'page': 3, 'source': 'data/luri_higher_topos.pdf'}),\n",
       "  Document(page_content='property is automatic (since a map Λn\\n0→Sextends uniquely to ∆nwhenSis isomorphic to the nerve of a\\ncategory).\\nLet us now consider the structure of a general left ﬁbration p:X→S. In the case where Sconsists of\\na single vertex, Proposition 1.2.5.1 asserts that pis a left ﬁbration if and only if Xis a Kan complex. Since\\nthe class of left ﬁbrations is stable under pullback, we dedu ce that for anyleft ﬁbration p:X→Sand\\nany vertex sofS, the ﬁberXs=X×S{s}is a Kan complex (which we can think of as the ∞-categorical\\nanalogue of a groupoid). Moreover, these Kan complexes are r elated to one another. More precisely, suppose\\nthatf:s→s′is an edge of the simplicial set Sand consider the inclusion i:Xs≃Xs×{0}⊆Xs×∆1.\\n55', metadata={'page': 55, 'source': 'data/luri_higher_topos.pdf'}),\n",
       "  Document(page_content='asleft Kan extension along δ(it should be clear from context which of these functors is me ant in a given\\nsituation). We observe that δ!assigns to each object f0:K0→Da left Kan extension of f0alongδ.\\nExample 4.3.3.6. LetCandDbe∞-categories, and let i:C0→Cbe the inclusion of a full subcategory.\\nSuppose that i!: Fun( C0,D)→Fun(C,D) is a section of i∗, which satisﬁes the conclusion of Corollary\\n4.3.2.16. Then i!is a left Kan extension along iin the sense deﬁned above; this follows easily from Proposit ion\\n4.3.3.5.\\nLeft Kan extension functors admit the following characteri zation:\\nProposition 4.3.3.7. Letδ:K0→K1be a map of simplicial sets, let Dbe an∞-category, let δ∗:\\nFun(K1,D)→Fun(K0,D)be the restriction functor, and let δ!: Fun(K0,D)→Fun(K1,D)be a functor of\\nleft Kan extension along δ. Thenδ!is a left adjoint of δ∗.\\nProof. The mapδcan be factored as a composition\\nK0i→Mop(δ)r→K1\\nwhererdenotes the natural retraction of Mop(δ) ontoK1. Consequently, δ∗=i∗◦r∗. Proposition 4.3.2.17', metadata={'page': 236, 'source': 'data/luri_higher_topos.pdf'}),\n",
       "  Document(page_content='toK1=K×∆1{1}. Let Cdenote the full subcategory of Fun( K,D) spanned by those functors F:K→D\\nsuch thatFis a left Kan extension of F0=F|K0. The restriction map p:C→Fun(K0,D) can be written\\nas a composition of C→DK0(a trivial ﬁbration by Proposition 4.3.2.15) and Fun( K0,D)→Fun(K0,D)\\n(a trivial ﬁbration since K0→K0is inner anodyne), and is therefore a trivial ﬁbration. Let δ!be the\\ncomposition of a section of pwith the restriction map C⊆Fun(K,D)→Fun(Mop(δ),D), and letδ!denote\\nthe composition of δ!with the restriction map Fun( Mop(δ),D)→Fun(K1,D). Thenδ!andδ!are well-\\ndeﬁned up to equivalence, at least once Khas been ﬁxed (independence of the choice of Kwill follow from\\nthe characterization given in Proposition 4.3.3.7). We wil l abuse terminology by referring to bothδ!andδ!\\nasleft Kan extension along δ(it should be clear from context which of these functors is me ant in a given\\nsituation). We observe that δ!assigns to each object f0:K0→Da left Kan extension of f0alongδ.', metadata={'page': 236, 'source': 'data/luri_higher_topos.pdf'}),\n",
       "  Document(page_content='Remark 1.2.16.4. We will occasionally need to distinguish between “large” sp aces and “small” spaces. In\\nsuch contexts, we will let Sdenote the∞-category of small spaces (deﬁned by taking the simplicial n erve of\\nthe category of small Kan complexes), and ˆSthe∞-category of large spaces (deﬁned by taking the simplicial\\nnerve of the category of allKan complexes). We observe that Sis a large∞-category, and that ˆSis even\\nbigger.\\n51', metadata={'page': 51, 'source': 'data/luri_higher_topos.pdf'}),\n",
       "  Document(page_content='Remark 2.1.3.5. Lemma 2.1.3.4 is an immediate consequence of Proposition 2. 1.3.1, since any map between\\ncontractible Kan complexes is a homotopy equivalence. Lemm a 2.1.3.3 also follows immediately, since if T\\nis a Kan complex, then its homotopy category is a groupoid, so thatanyfunctor h T→Hcarries edges of\\nTto invertible morphisms in H.\\n2.1.4 The Covariant Model Structure\\nIn§2.1.2, we saw that a left ﬁbration p:X→Sdetermines a functor χfrom h Sto the homotopy category\\nH, carrying each vertex sto the ﬁber Xs=X×S{s}. We would like to formulate a more precise relationship\\nbetween left ﬁbrations over Sand functors from Sinto spaces. For this, it is convenient to employ Quillen’s\\nlanguage of model categories. In this section, we will show t hat the category ( Set∆)/Scan be endowed with\\nthe structure of a simplicial model category, whose ﬁbrant o bjects are precisely the left ﬁbrations X→S.', metadata={'page': 64, 'source': 'data/luri_higher_topos.pdf'})],\n",
       " 'answer': \"Certainly! Here are a few examples of Kan complexes:\\n\\n1. Singular Complexes: The singular complex of any topological space is a Kan complex. This follows from the fact that the horn of a singular complex is a retract of the simplex in the category of topological spaces. Conversely, any Kan complex behaves like a space, and there are simple combinatorial recipes for extracting homotopy groups from Kan complexes.\\n\\n2. Homotopy Categories: The homotopy category of CW complexes and the homotopy category of Kan complexes are mutually equivalent. This is a result of a theorem by Quillen, which establishes a correspondence between the homotopy category of CW complexes and the homotopy category of Kan complexes.\\n\\n3. Model Categories: In the context of model categories, Kan complexes play a role in the theory of left and right fibrations. They are used to study the structure of fibrant objects and are closely related to the theory of weak homotopy equivalences.\\n\\nThese examples illustrate the diverse applications of Kan complexes in homotopy theory, topological spaces, and model categories. They provide a bridge between the combinatorial structure of simplicial sets and the geometric properties of spaces, making them a fundamental concept in higher category theory.\\n\\nIf you have any specific questions about these examples or if you'd like more examples, feel free to ask!\"}"
      ]
     },
     "execution_count": 20,
     "metadata": {},
     "output_type": "execute_result"
    }
   ],
   "source": [
    "ai_msg_2"
   ]
  },
  {
   "cell_type": "code",
   "execution_count": null,
   "metadata": {},
   "outputs": [],
   "source": []
  }
 ],
 "metadata": {
  "kernelspec": {
   "display_name": "mathrag",
   "language": "python",
   "name": "python3"
  },
  "language_info": {
   "codemirror_mode": {
    "name": "ipython",
    "version": 3
   },
   "file_extension": ".py",
   "mimetype": "text/x-python",
   "name": "python",
   "nbconvert_exporter": "python",
   "pygments_lexer": "ipython3",
   "version": "3.11.8"
  }
 },
 "nbformat": 4,
 "nbformat_minor": 2
}
