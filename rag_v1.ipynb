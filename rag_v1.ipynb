{
 "cells": [
  {
   "cell_type": "code",
   "execution_count": 14,
   "metadata": {},
   "outputs": [
    {
     "data": {
      "text/plain": [
       "True"
      ]
     },
     "execution_count": 14,
     "metadata": {},
     "output_type": "execute_result"
    }
   ],
   "source": [
    "import os\n",
    "from llama_index.llms.azure_openai import AzureOpenAI\n",
    "from llama_index.llms.openai import OpenAI\n",
    "from llama_index.embeddings.huggingface import HuggingFaceEmbedding\n",
    "from llama_index.embeddings.openai import OpenAIEmbedding\n",
    "from llama_index.embeddings.azure_openai import AzureOpenAIEmbedding\n",
    "from llama_index.core import VectorStoreIndex, SimpleDirectoryReader\n",
    "from llama_index.core.node_parser import SentenceWindowNodeParser\n",
    "from llama_index.core.node_parser import SentenceSplitter\n",
    "from llama_index.llms.ollama import Ollama\n",
    "from dotenv import load_dotenv\n",
    "load_dotenv()"
   ]
  },
  {
   "cell_type": "code",
   "execution_count": 15,
   "metadata": {},
   "outputs": [],
   "source": [
    "azure_api_key=os.getenv(\"AZURE_OPENAI_API_KEY\")\n",
    "azure_endpoint=os.getenv(\"AZURE_OPENAI_ENDPOINT\")\n",
    "azure_api_version=os.getenv(\"AZURE_OPENAI_API_VERSION\")\n",
    "open_ai_api_key=os.getenv(\"OPENAI_API_KEY\")"
   ]
  },
  {
   "cell_type": "code",
   "execution_count": 16,
   "metadata": {},
   "outputs": [
    {
     "name": "stdout",
     "output_type": "stream",
     "text": [
      "2024-02-01\n"
     ]
    }
   ],
   "source": [
    "print(azure_api_version)"
   ]
  },
  {
   "cell_type": "code",
   "execution_count": 17,
   "metadata": {},
   "outputs": [],
   "source": [
    "# create the sentence window node parser w/ default settings\n",
    "node_parser = SentenceWindowNodeParser.from_defaults(\n",
    "    window_size=3,\n",
    "    window_metadata_key=\"window\",\n",
    "    original_text_metadata_key=\"original_text\",\n",
    ")\n",
    "\n",
    "# base node parser is a sentence splitter\n",
    "text_splitter = SentenceSplitter()\n",
    "\n",
    "# llm = OpenAI(model=\"gpt-3.5-turbo\", temperature=0.1)\n",
    "# embed_model = OpenAIEmbedding(model=\"text-embedding-3-small\")\n",
    "\n",
    "llm = Ollama(model=\"mistral\", request_timeout=30.0)\n",
    "# llm = AzureOpenAI(deployment_name=\"gpt-35-turbo-1106\",\n",
    "#                     model=\"gpt-35-turbo\",\n",
    "#                     api_key=azure_api_key,\n",
    "#                     azure_endpoint=azure_endpoint,\n",
    "#                     azure_api_version=azure_api_version,\n",
    "#                     temperature=0.1)\n",
    "# embed_model = AzureOpenAIEmbedding(\n",
    "#     model=\"text-embedding-ada-002\",\n",
    "#     deployment_name=\"text-embedding\",\n",
    "#     api_key=azure_api_key,\n",
    "#     azure_endpoint=azure_endpoint,\n",
    "#     azure_api_version=azure_api_version\n",
    "# )\n",
    "embed_model = HuggingFaceEmbedding(\n",
    "    model_name=\"sentence-transformers/all-mpnet-base-v2\", max_length=512\n",
    ")\n",
    "\n",
    "from llama_index.core import Settings\n",
    "# set models for entire llamaindex app\n",
    "Settings.llm = llm\n",
    "Settings.embed_model = embed_model\n",
    "Settings.text_splitter = text_splitter"
   ]
  },
  {
   "cell_type": "code",
   "execution_count": 18,
   "metadata": {},
   "outputs": [],
   "source": [
    "embeddings = embed_model.get_text_embedding(\n",
    "    \"Open AI new Embeddings models is shit.\"\n",
    ")"
   ]
  },
  {
   "cell_type": "code",
   "execution_count": 19,
   "metadata": {},
   "outputs": [
    {
     "name": "stdout",
     "output_type": "stream",
     "text": [
      " the sun is shining, casting gentle rays of light over the landscape. Birds are singing sweetly in the trees, and there's a soft breeze that rustles the leaves and carries the scent of blooming flowers. It's a peaceful moment, and the world seems to be bathed in a warm, golden glow. I hope you're enjoying this beautiful day! Is there anything specific you would like me to help you with?\n"
     ]
    }
   ],
   "source": [
    "response = llm.complete(\"The sky is a beautiful blue and\")\n",
    "print(response)"
   ]
  },
  {
   "cell_type": "code",
   "execution_count": 20,
   "metadata": {},
   "outputs": [],
   "source": [
    "documents = SimpleDirectoryReader(\n",
    "    input_files=[\"data/luri_higher_topos.pdf\"]\n",
    ").load_data()"
   ]
  },
  {
   "cell_type": "markdown",
   "metadata": {},
   "source": [
    "We extract out the set of nodes that will be stored in the VectorIndex. This includes both the nodes with the sentence window parser, as well as the \"base\" nodes extracted using the standard parser."
   ]
  },
  {
   "cell_type": "code",
   "execution_count": 21,
   "metadata": {},
   "outputs": [],
   "source": [
    "nodes = node_parser.get_nodes_from_documents(documents)\n",
    "base_nodes = text_splitter.get_nodes_from_documents(documents)"
   ]
  },
  {
   "cell_type": "code",
   "execution_count": 22,
   "metadata": {},
   "outputs": [],
   "source": [
    "from llama_index.core import VectorStoreIndex\n",
    "\n",
    "sentence_index = VectorStoreIndex(nodes)\n",
    "base_index = VectorStoreIndex(base_nodes)"
   ]
  },
  {
   "cell_type": "code",
   "execution_count": 30,
   "metadata": {},
   "outputs": [
    {
     "name": "stdout",
     "output_type": "stream",
     "text": [
      " The text provides information that a smooth function on a topological space X is defined as a function satisfying certain conditions mentioned in Proposition 4.1.2.7. It also states that the projection map from the homotopy category of simplicial sets to the category of sets (Map(Set∆)/S) is a right fibration when the projection map is smooth and the inclusion is cofinal, as stated in Lemma 2.1.3.3. The text does not directly mention that smooth functions on smooth spaces form a Kan complex. However, it can be inferred from Theorem 1.1.5.13 and the fact that the singular complex of any topological space is a Kan complex that there is a relationship between Kan complexes and topological spaces. Therefore, one could infer that smooth functions on smooth spaces might form a Kan complex due to this connection. However, without further information, it cannot be definitively stated that smooth functions on smooth spaces are a Kan complex.\n"
     ]
    }
   ],
   "source": [
    "from llama_index.core.postprocessor import MetadataReplacementPostProcessor\n",
    "\n",
    "query_engine = sentence_index.as_query_engine(\n",
    "    similarity_top_k=5,\n",
    "    # the target key defaults to `window` to match the node_parser's default\n",
    "    node_postprocessors=[\n",
    "        MetadataReplacementPostProcessor(target_metadata_key=\"window\")\n",
    "    ],\n",
    ")\n",
    "window_response = query_engine.query(\n",
    "    \"Why are smooth functions on smooth spaces a Kan complex?\"\n",
    ")\n",
    "print(window_response)"
   ]
  },
  {
   "cell_type": "code",
   "execution_count": 31,
   "metadata": {},
   "outputs": [
    {
     "name": "stdout",
     "output_type": "stream",
     "text": [
      "Window: LetCbe a topological category.  Then the topological nerve N(C)is an∞-category.\n",
      " Proof.  This follows immediately from Proposition 1.1.5.10, since the singular complex of any topological\n",
      "space is a Kan complex.\n",
      " We now cite the following theorem, which will be proven in §2.2.4 and reﬁned in §2.2.5:\n",
      "Theorem 1.1.5.13.  LetCbe a topological category, and let X,Y∈Cbe objects.  Then the counit map\n",
      "|MapC[N(C)](X,Y)|→MapC(X,Y)\n",
      "is a weak homotopy equivalence of topological spaces.\n",
      "\n",
      "------------------\n",
      "Original Sentence: This follows immediately from Proposition 1.1.5.10, since the singular complex of any topological\n",
      "space is a Kan complex.\n",
      "\n"
     ]
    }
   ],
   "source": [
    "window = window_response.source_nodes[0].node.metadata[\"window\"]\n",
    "sentence = window_response.source_nodes[0].node.metadata[\"original_text\"]\n",
    "\n",
    "print(f\"Window: {window}\")\n",
    "print(\"------------------\")\n",
    "print(f\"Original Sentence: {sentence}\")"
   ]
  }
 ],
 "metadata": {
  "kernelspec": {
   "display_name": "mathrag",
   "language": "python",
   "name": "python3"
  },
  "language_info": {
   "codemirror_mode": {
    "name": "ipython",
    "version": 3
   },
   "file_extension": ".py",
   "mimetype": "text/x-python",
   "name": "python",
   "nbconvert_exporter": "python",
   "pygments_lexer": "ipython3",
   "version": "3.11.8"
  }
 },
 "nbformat": 4,
 "nbformat_minor": 2
}
